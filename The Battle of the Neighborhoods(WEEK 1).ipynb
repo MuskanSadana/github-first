{
 "cells": [
  {
   "cell_type": "markdown",
   "metadata": {
    "collapsed": true
   },
   "source": [
    "<h1> Capstone Project- The Battle of Neighborhoods (Week 1) </h1>"
   ]
  },
  {
   "cell_type": "markdown",
   "metadata": {},
   "source": [
    "<h2> Part 1 of 2 <br><br>\n",
    "Introduction to the problem : </h2><br><br>"
   ]
  },
  {
   "cell_type": "markdown",
   "metadata": {},
   "source": [
    "<font size=\"5\">There is company who wants to provide services such as healthy food at affordable prices, medical services and laundry services to the students to are residing away from their homes and managing their daily lives alone. Since nowadays fast food is cheaper than healthy food, most people find it a better way to fill their stomachs. But a student who has to use his mental power all day must have a good diet. This idea brings me to write for the problem. Now, the major obstacles of the company is to colllect whole data of the city of Toronto. Here, the data in the form of maps can be acquired from Foursquare which will help the company to locate the universities and colleges. The company moreover has to employ some people who can go one bikes or other vehicles and provide the services. This can also help the company to know how efficiently the services can be provided depending on the trafffic and the distance of the university or colllege from the company office. </font><br><br><br><br>"
   ]
  },
  {
   "cell_type": "markdown",
   "metadata": {},
   "source": [
    "<h2> Part 2 of 2 <br><br>\n",
    "Discussion of the problem : </h2><br><br>"
   ]
  },
  {
   "cell_type": "markdown",
   "metadata": {},
   "source": [
    "<font size=\"5\"> The Foursquare loacation data can help the company to get the details of the universities and colleges. The company also has to get the distances between the target location and the company office. The traffic lights,any shortcut distances and heavy traffic hours can be known to us through the Foursqaure data. The company can buy the premium bussiness package of the Foursqaure API so that they can make infinite calls to the data in a day. The students can also be informed before hand about how fast the service could be at that particular time. Moreover using the Foursquare data, the company can also provide the students with online tracking of the service. I think this is the best possible way the company can make the use of the Foursquare loaction data. So, Foursquare can help us in the folllowing ways :<br>\n",
    "<ul>\n",
    "    <li>Details of the universities or colleges</li>\n",
    "    <li>Distance of the target loacation grom company</li>\n",
    "    <li>Traffic lights</li>\n",
    "    <li>Heavy traffic hours</li>\n",
    "    <li>Online tracking</li> </ul>  </font>"
   ]
  },
  {
   "cell_type": "code",
   "execution_count": null,
   "metadata": {},
   "outputs": [],
   "source": []
  }
 ],
 "metadata": {
  "kernelspec": {
   "display_name": "Python 3.6",
   "language": "python",
   "name": "python3"
  },
  "language_info": {
   "codemirror_mode": {
    "name": "ipython",
    "version": 3
   },
   "file_extension": ".py",
   "mimetype": "text/x-python",
   "name": "python",
   "nbconvert_exporter": "python",
   "pygments_lexer": "ipython3",
   "version": "3.6.9"
  }
 },
 "nbformat": 4,
 "nbformat_minor": 1
}
