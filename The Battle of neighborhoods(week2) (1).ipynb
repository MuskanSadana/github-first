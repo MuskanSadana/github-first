{
 "cells": [
  {
   "cell_type": "markdown",
   "metadata": {
    "collapsed": true
   },
   "source": [
    "<h1> APPLIED CAPSTONE PROJECT </h1><hr>"
   ]
  },
  {
   "cell_type": "markdown",
   "metadata": {},
   "source": [
    "<h2>Introduction</h2>"
   ]
  },
  {
   "cell_type": "markdown",
   "metadata": {},
   "source": [
    "<h2>The major objectective of My Capstone project is to improve the lives of the students who are struggling in their lives to get better facilities away from home. Being a student, I understand the need of healthy food, medical facilities and laundry services in a student's life and mere support can uplift a person upto great extent. And if such facilities could be provided efficiently and properly, this will lead to the growth of the students. The Foursquare is the great support to the company who are providing such facilities.\n",
    "Many students come to Toronto to study. They get a good academic environment but it's not all that matters. The diet a student is taking, other chores in daily life also affect the academic performance of the students. The time and money they spend in unhealthy stuffs can be tranformed in the good utilization. <br>\n",
    "This project is a real life example almost every student faces in his lifetime.\n",
    "</h2><br><hr>"
   ]
  },
  {
   "attachments": {},
   "cell_type": "markdown",
   "metadata": {},
   "source": [
    "<br>"
   ]
  },
  {
   "cell_type": "markdown",
   "metadata": {},
   "source": [
    "<br><br><h2>Data Section</h2>"
   ]
  },
  {
   "cell_type": "markdown",
   "metadata": {},
   "source": [
    "<h2>The major data has to be collected from the Foursquare Location Data. But that is enough for the company to run. For good profit of the company we can perform surveys for the students asking about how are they liking the services, any limitations they find and what are more expansion or servives that the company can come up with. As a data scientist, our approach must be in more and more development of the company as well as students through the skills we have of working with large amount of data and making predictions and solving problems. We can apply clustering and form clusters of students based on their liking of the specific food or based on their age and their subjects to provide them with nutritious food. For example, for a student having sports as his subject requires more carbohydrates as he has to work on ground all day and the student studing life science or engineering require more vitamins and proteins in their diet to increase their mental power. <br>\n",
    "Thus, we concludes the data section of the project by this approach that the project is not only to start the company but also to run it efficiently requiring feedbacks from the students and updating for the new admission,etc.</h2><br><hr>"
   ]
  },
  {
   "cell_type": "markdown",
   "metadata": {},
   "source": [
    "<h2>Methodology</h2>"
   ]
  },
  {
   "cell_type": "markdown",
   "metadata": {},
   "source": [
    "<h2>Python<br>\n",
    "Python has being helping us so far in all the aspects of data science. From creating graphs to importing maps and working on to produce the best outcomes, python has being a boon to data science. In this project as well as the report that is created, everything is done on the python. The pandas and numpy libraries in the python has greatly helped us to visualize the data and make comparision, find relationship between two variables. On whole, without this platform, our project would have been a lot more difficult.<br><br>\n",
    "Foursquare<br>\n",
    "Project like this one required the map of Toronto, details of the universities etc. Foursquare has helped us in acheiving an updated information of the city in the form of JSON file. It is really easy to work with and is also has a professional user interface. Foursquare can also help the company to  give its customers, a live tracking platform of their services which is most popular nowadays amongst big companies such as uber and ola.</h2><br><hr>"
   ]
  },
  {
   "cell_type": "markdown",
   "metadata": {},
   "source": [
    "<h2>Result</h2>"
   ]
  },
  {
   "cell_type": "markdown",
   "metadata": {},
   "source": [
    "<h2>The outcome of our project is satified customers and a well managed profit gaining company. Which is all possible because of\n",
    "    Python\n",
    "    Foursquare</h2><br><br><hr>"
   ]
  },
  {
   "cell_type": "markdown",
   "metadata": {},
   "source": [
    "<h2>Discussion </h2>"
   ]
  },
  {
   "cell_type": "markdown",
   "metadata": {},
   "source": [
    "<h2>The problem of the students can be solved through the projects. Our adta must be update on regural basis for the better working of the project. Also, the data must be flexibile to be changed. If we create a strict project, it may be prone to the problem of out of date. Also, changes for betterment or after feedback could not be made. Thus our data should be flexiblile. This project would work perfectly if satifies almost all of the customers and welcomes more customers without any technical obstacles.</h2><br><br><hr>"
   ]
  },
  {
   "cell_type": "markdown",
   "metadata": {},
   "source": [
    "<h1>Conclusion </h1>"
   ]
  },
  {
   "cell_type": "markdown",
   "metadata": {},
   "source": [
    "<h2>Thus, after applyng our analytical approach and skills we attained in the journey of data science, we created a real life project that benifits the students section of the city of Toronto. Toronto is a big city in Canada with great academic infrastructure. That why I opted for the problem that I thought might me very prevalent in the students of the city. \n",
    "We succefully built a project and applied our whole knowledge in the field of data science that we acquired recently. As a data scientist, we must understand that we can aways do something new to the data thus I welcome all new ideas regarding the project and as well as accept its limitations.</h2>"
   ]
  },
  {
   "cell_type": "code",
   "execution_count": null,
   "metadata": {},
   "outputs": [],
   "source": []
  }
 ],
 "metadata": {
  "kernelspec": {
   "display_name": "Python 3.6",
   "language": "python",
   "name": "python3"
  },
  "language_info": {
   "codemirror_mode": {
    "name": "ipython",
    "version": 3
   },
   "file_extension": ".py",
   "mimetype": "text/x-python",
   "name": "python",
   "nbconvert_exporter": "python",
   "pygments_lexer": "ipython3",
   "version": "3.6.9"
  }
 },
 "nbformat": 4,
 "nbformat_minor": 1
}
